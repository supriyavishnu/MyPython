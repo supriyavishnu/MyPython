{
 "cells": [
  {
   "cell_type": "code",
   "execution_count": 2,
   "id": "7758ed48",
   "metadata": {},
   "outputs": [
    {
     "name": "stdout",
     "output_type": "stream",
     "text": [
      "Hello World!\n"
     ]
    }
   ],
   "source": [
    "print ('Hello World!')"
   ]
  },
  {
   "cell_type": "code",
   "execution_count": 4,
   "id": "03fcaaaa",
   "metadata": {},
   "outputs": [
    {
     "name": "stdout",
     "output_type": "stream",
     "text": [
      "Wow Python is Easy\n"
     ]
    }
   ],
   "source": [
    "print('Wow', 'Python is', 'Easy')"
   ]
  },
  {
   "cell_type": "code",
   "execution_count": 6,
   "id": "ff49e681",
   "metadata": {},
   "outputs": [
    {
     "name": "stdout",
     "output_type": "stream",
     "text": [
      "Day Day Day Day Day \n"
     ]
    }
   ],
   "source": [
    "print('Day '*5)"
   ]
  },
  {
   "cell_type": "code",
   "execution_count": 7,
   "id": "41e4dfc0",
   "metadata": {},
   "outputs": [
    {
     "name": "stdout",
     "output_type": "stream",
     "text": [
      "Day2\n"
     ]
    }
   ],
   "source": [
    "print('Day' + str(2))"
   ]
  },
  {
   "cell_type": "code",
   "execution_count": 8,
   "id": "eb9247c1",
   "metadata": {},
   "outputs": [
    {
     "name": "stdout",
     "output_type": "stream",
     "text": [
      "LIST\n"
     ]
    }
   ],
   "source": [
    "print('LIST')"
   ]
  },
  {
   "cell_type": "code",
   "execution_count": 9,
   "id": "d7c21081",
   "metadata": {},
   "outputs": [],
   "source": [
    "employee=['Radha','D souza','Ramesh','Salman']"
   ]
  },
  {
   "cell_type": "code",
   "execution_count": 10,
   "id": "e3d46d8c",
   "metadata": {},
   "outputs": [
    {
     "name": "stdout",
     "output_type": "stream",
     "text": [
      "['Radha', 'D souza', 'Ramesh', 'Salman']\n"
     ]
    }
   ],
   "source": [
    "print(employee)"
   ]
  },
  {
   "cell_type": "code",
   "execution_count": 11,
   "id": "ee153120",
   "metadata": {},
   "outputs": [
    {
     "name": "stdout",
     "output_type": "stream",
     "text": [
      "['Radha', 'D souza', 'Ramesh', 'Salman', 'Kumar']\n"
     ]
    }
   ],
   "source": [
    "employee.append('Kumar') #Append is nothing but adding\n",
    "print(employee)"
   ]
  },
  {
   "cell_type": "code",
   "execution_count": 12,
   "id": "98e02de3",
   "metadata": {},
   "outputs": [],
   "source": [
    "employee.insert(1, 'Remo')"
   ]
  },
  {
   "cell_type": "code",
   "execution_count": 13,
   "id": "710b912c",
   "metadata": {},
   "outputs": [
    {
     "name": "stdout",
     "output_type": "stream",
     "text": [
      "['Radha', 'Remo', 'D souza', 'Ramesh', 'Salman', 'Kumar']\n"
     ]
    }
   ],
   "source": [
    "print(employee)"
   ]
  },
  {
   "cell_type": "code",
   "execution_count": 14,
   "id": "77bec459",
   "metadata": {},
   "outputs": [
    {
     "data": {
      "text/plain": [
       "6"
      ]
     },
     "execution_count": 14,
     "metadata": {},
     "output_type": "execute_result"
    }
   ],
   "source": [
    "len(employee)"
   ]
  },
  {
   "cell_type": "code",
   "execution_count": 15,
   "id": "6211b23f",
   "metadata": {},
   "outputs": [
    {
     "name": "stdout",
     "output_type": "stream",
     "text": [
      "['Radha', 'Remo', 'D souza', 'Ganesh', 'Salman', 'Kumar']\n"
     ]
    }
   ],
   "source": [
    "employee[3]='Ganesh' #Removes and add the new name to the '3' index postion\n",
    "print(employee)"
   ]
  },
  {
   "cell_type": "code",
   "execution_count": 22,
   "id": "be916d28",
   "metadata": {},
   "outputs": [
    {
     "name": "stdout",
     "output_type": "stream",
     "text": [
      "[48000, 20000, 28000, 19000]\n"
     ]
    }
   ],
   "source": [
    "emp_sal=[48000, 20000, 28000, 19000]\n",
    "print(emp_sal)"
   ]
  },
  {
   "cell_type": "code",
   "execution_count": 23,
   "id": "95faba33",
   "metadata": {},
   "outputs": [
    {
     "data": {
      "text/plain": [
       "[20000, 28000, 19000]"
      ]
     },
     "execution_count": 23,
     "metadata": {},
     "output_type": "execute_result"
    }
   ],
   "source": [
    "emp_sal[1: ]\n",
    "#Here the Starting index position is exculded"
   ]
  },
  {
   "cell_type": "code",
   "execution_count": 24,
   "id": "eeb102d2",
   "metadata": {},
   "outputs": [
    {
     "data": {
      "text/plain": [
       "[48000, 20000, 28000]"
      ]
     },
     "execution_count": 24,
     "metadata": {},
     "output_type": "execute_result"
    }
   ],
   "source": [
    "emp_sal[ :3]\n",
    "#here the end point is excluded"
   ]
  },
  {
   "cell_type": "code",
   "execution_count": 25,
   "id": "2016a2f9",
   "metadata": {},
   "outputs": [
    {
     "data": {
      "text/plain": [
       "[20000, 28000]"
      ]
     },
     "execution_count": 25,
     "metadata": {},
     "output_type": "execute_result"
    }
   ],
   "source": [
    "emp_sal[1:3]\n",
    "#Here starting and end points are excluded"
   ]
  },
  {
   "cell_type": "code",
   "execution_count": 26,
   "id": "ef182ef7",
   "metadata": {},
   "outputs": [
    {
     "data": {
      "text/plain": [
       "[48000, 20000, 28000, 19000, 25000]"
      ]
     },
     "execution_count": 26,
     "metadata": {},
     "output_type": "execute_result"
    }
   ],
   "source": [
    "emp_sal=emp_sal+[25000]\n",
    "#For permanently adding method\n",
    "emp_sal"
   ]
  },
  {
   "cell_type": "code",
   "execution_count": 27,
   "id": "5ed4de2c",
   "metadata": {},
   "outputs": [
    {
     "data": {
      "text/plain": [
       "[48000, 20000, 28000, 19000, 25000, 48000, 20000, 28000, 19000, 25000]"
      ]
     },
     "execution_count": 27,
     "metadata": {},
     "output_type": "execute_result"
    }
   ],
   "source": [
    "emp_sal*2\n",
    "#advance double method"
   ]
  },
  {
   "cell_type": "code",
   "execution_count": 28,
   "id": "4fa95a8e",
   "metadata": {},
   "outputs": [
    {
     "name": "stdout",
     "output_type": "stream",
     "text": [
      "==========================================================================================\n",
      "                               Data Trained                            \n",
      "==========================================================================================\n"
     ]
    }
   ],
   "source": [
    "print('='*90)\n",
    "print('                               Data Trained                            ')\n",
    "print('='*90)"
   ]
  },
  {
   "cell_type": "code",
   "execution_count": null,
   "id": "2dedcdeb",
   "metadata": {},
   "outputs": [],
   "source": []
  }
 ],
 "metadata": {
  "kernelspec": {
   "display_name": "Python 3 (ipykernel)",
   "language": "python",
   "name": "python3"
  },
  "language_info": {
   "codemirror_mode": {
    "name": "ipython",
    "version": 3
   },
   "file_extension": ".py",
   "mimetype": "text/x-python",
   "name": "python",
   "nbconvert_exporter": "python",
   "pygments_lexer": "ipython3",
   "version": "3.9.7"
  }
 },
 "nbformat": 4,
 "nbformat_minor": 5
}
